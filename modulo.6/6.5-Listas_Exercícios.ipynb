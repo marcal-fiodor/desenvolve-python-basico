{
 "cells": [
  {
   "cell_type": "markdown",
   "id": "0d5035b5",
   "metadata": {},
   "source": [
    "# Listas\n",
    "\n",
    "## Aulas 6.1 a 6.5 "
   ]
  },
  {
   "cell_type": "markdown",
   "id": "0bdece85",
   "metadata": {},
   "source": [
    "### Q1. \n",
    "\n",
    "Usando a função embutida ```map``` e criando uma função ```lambda```, transforme uma lista com os raios de múltiplas circunferências em uma nova lista com as respectivas áreas. O cálculo de cada área é dado por: ```pi*(raio**2)```\n",
    "- Use a constante pi da biblioteca math \n",
    "- Arredonde o resultado para 2 casas decimais\n"
   ]
  },
  {
   "cell_type": "code",
   "execution_count": 10,
   "id": "0a258eba",
   "metadata": {},
   "outputs": [
    {
     "name": "stdout",
     "output_type": "stream",
     "text": [
      "As áreas são: ['7.07', '2.01', '16.62', '78.54']\n"
     ]
    }
   ],
   "source": [
    "import math\n",
    "\n",
    "raios = [1.5, 0.8, 2.3, 5.0]\n",
    "\n",
    "areas = list(map(lambda r: math.pi * (r ** 2), raios))\n",
    "print(\"As áreas são:\", [f\"{a:.2f}\" for a in areas])"
   ]
  },
  {
   "cell_type": "markdown",
   "id": "649a5082",
   "metadata": {},
   "source": [
    "### Q2. \n",
    "\n",
    "Crie uma função customizada e aplique a função embutida ```filter``` para operar em uma lista de listas contendo os lados de múltiplos triângulos. Construa uma nova lista contendo apenas os triângulos equiláteros, ou seja, com os três lados iguais.\n"
   ]
  },
  {
   "cell_type": "code",
   "execution_count": 5,
   "id": "47cb0573",
   "metadata": {},
   "outputs": [
    {
     "name": "stdout",
     "output_type": "stream",
     "text": [
      "Triângulos equiláteros: [[2, 2, 2], [4, 4, 4]]\n"
     ]
    }
   ],
   "source": [
    "## Crie a função customizada\n",
    "def testa_equilatero(lados):\n",
    "    return lados[0] == lados[1] == lados[2]\n",
    "\n",
    "### Usando filter, aplique a função customizada aos seguintes triangulos\n",
    "triangulos  = [[2,2,2], [3,4,5], [3,2,2],[4,4,4]]\n",
    "\n",
    "equilateros = list(filter(testa_equilatero, triangulos))\n",
    "\n",
    "print(\"Triângulos equiláteros:\", equilateros)"
   ]
  },
  {
   "cell_type": "markdown",
   "id": "bb62d219",
   "metadata": {},
   "source": [
    "### Q3. \n",
    "Crie uma função chamada ```ordena_por_comprimento``` que aceite uma lista de strings e a ordene com base no comprimento das strings, do menor para o maior. Utilize a função ```sorte``` e uma expressão ```lambda```."
   ]
  },
  {
   "cell_type": "code",
   "execution_count": 4,
   "id": "add41556",
   "metadata": {},
   "outputs": [
    {
     "name": "stdout",
     "output_type": "stream",
     "text": [
      "Ordenados por comprimento: ['Sol', 'Joao', 'Jose', 'Luna', 'Enzo', 'Maria', 'Bento', 'Gabriela', 'Fernanda']\n"
     ]
    }
   ],
   "source": [
    "### crie a função ordena_por_comprimento e retorne a lista resultado\n",
    "def ordena_por_comprimento(lista):\n",
    "    return sorted(lista, key=lambda x: len(x))\n",
    "\n",
    "\n",
    "### aplique sua função à seguinte lista e imprima o resultado\n",
    "nomes = [\"Joao\", \"Maria\", \"Jose\", \"Gabriela\", \"Sol\", \"Luna\", \"Bento\", \"Enzo\", \"Fernanda\"]\n",
    "\n",
    "resultado = ordena_por_comprimento(nomes)\n",
    "\n",
    "print(\"Ordenados por comprimento:\", resultado)"
   ]
  },
  {
   "cell_type": "markdown",
   "id": "8710b1a7",
   "metadata": {},
   "source": [
    "### Q4.\n",
    "\n",
    "Crie uma lista de listas (uma matriz de 2 dimensões) de tamanho $n \\times n$, com $n$ dado pelo usuário. Cada elemento da matriz deve ser o produto dos índices da linha pela coluna.\n",
    "\n",
    "Exemplo:\n",
    "```\n",
    "Digite n: 4\n",
    "Matriz:\n",
    "[[0, 0, 0, 0],\n",
    " [0, 1, 2, 3],\n",
    " [0, 2, 4, 6],\n",
    " [0, 3, 6, 9]]\n",
    "```"
   ]
  },
  {
   "cell_type": "code",
   "execution_count": 3,
   "id": "0b7ee921",
   "metadata": {},
   "outputs": [
    {
     "name": "stdin",
     "output_type": "stream",
     "text": [
      "Digite n:  2\n"
     ]
    },
    {
     "name": "stdout",
     "output_type": "stream",
     "text": [
      "Matriz:\n",
      "[0, 0]\n",
      "[0, 1]\n"
     ]
    }
   ],
   "source": [
    "# Implemente sua solução aqui\n",
    "n = int(input(\"Digite n: \"))\n",
    "matriz = [[i * j for j in range(n)] for i in range(n)]\n",
    "\n",
    "print(\"Matriz:\")\n",
    "for linha in matriz:\n",
    "    print(linha)\n"
   ]
  },
  {
   "cell_type": "markdown",
   "id": "f41781df",
   "metadata": {},
   "source": [
    "### Q5.\n",
    "\n",
    "Dada uma lista de números inteiros, implemente uma função em Python chamada ```pares_unicos``` que encontre e retorne todos os pares únicos de elementos na lista cuja soma seja igual a um determinado valor. Considere que a ordem dos pares não é relevante."
   ]
  },
  {
   "cell_type": "code",
   "execution_count": 9,
   "id": "7a76f765",
   "metadata": {},
   "outputs": [
    {
     "name": "stdout",
     "output_type": "stream",
     "text": [
      "[(3, 7), (4, 6)]\n"
     ]
    }
   ],
   "source": [
    "def pares_unicos(numeros, soma_objetivo):\n",
    "    pares = []\n",
    "    for i in range(len(numeros)):\n",
    "        for j in range(i + 1, len(numeros)):\n",
    "            if numeros[i] + numeros[j] == soma_objetivo:\n",
    "                par = tuple(sorted((numeros[i], numeros[j])))\n",
    "                if par not in pares:\n",
    "                    pares.append(par)\n",
    "    return pares\n",
    "\n",
    "# Exemplo de uso:\n",
    "nums = [3, 4, 5, 6, 7]\n",
    "soma = 10\n",
    "resultado = pares_unicos(nums, soma)\n",
    "print(resultado)  # Saída esperada: [(3, 7), (4, 6)]"
   ]
  },
  {
   "cell_type": "markdown",
   "id": "87e44893",
   "metadata": {},
   "source": [
    "### Q5.\n",
    "\n",
    "Escreva um programa para encontrar a diferença entre duas listas, incluindo elementos duplicados.\n",
    "\n",
    "Ex:\n",
    "```\n",
    "Listas originais: \n",
    "[1, 1, 2, 3, 3, 4, 4, 5, 6, 7]\n",
    "[1, 1, 2, 4, 5, 6]\n",
    "Diferença entre as listas:\n",
    "[3, 3, 4, 7]\n",
    "```"
   ]
  },
  {
   "cell_type": "code",
   "execution_count": 12,
   "id": "7edc027c",
   "metadata": {},
   "outputs": [
    {
     "name": "stdout",
     "output_type": "stream",
     "text": [
      "Diferença entre as listas: [3, 3, 4, 7]\n"
     ]
    }
   ],
   "source": [
    "# Implemente sua solução aqui\n",
    "lista1 = [1, 1, 2, 3, 3, 4, 4, 5, 6, 7]\n",
    "lista2 = [1, 1, 2, 4, 5, 6]\n",
    "\n",
    "diferenca = []\n",
    "lista2_temp = lista2[:]\n",
    "\n",
    "for i in range(len(lista1)):\n",
    "    if lista1[i] in lista2_temp:\n",
    "        lista2_temp.remove(lista1[i])\n",
    "    else:\n",
    "        diferenca.append(lista1[i])\n",
    "\n",
    "print(\"Diferença entre as listas:\", diferenca)\n"
   ]
  },
  {
   "cell_type": "markdown",
   "id": "f4c4236d",
   "metadata": {},
   "source": [
    "### Q6.\n",
    "\n",
    "Dada uma lista aleatória, escreva um programa que separa os valores em listas menores de acordo com o tamanho solicitado. Caso não seja possível repartir igualmente a lista original, a última sublista deve conter os elementos remanescentes, como indicado no exemplo a seguir.\n",
    "\n",
    "Note que seu programa deve continuar executando em um laço infinito até que o usuário informe o tamanho 0 na entrada solicitada.\n",
    "\n",
    "```\n",
    "Lista original:\n",
    "[12, 45, 23, 67, 78, 90, 45, 32, 100, 76, 38, 62, 73, 29, 83]\n",
    "\n",
    "Tamanho para divisão: 3\n",
    "Subslistas:\n",
    "[[12, 45, 23], [67, 78, 90], [45, 32, 100], [76, 38, 62], [73, 29, 83]]\n",
    "\n",
    "Tamanho para divisão: 4\n",
    "Subslistas: [[12, 45, 23, 67], [78, 90, 45, 32], [100, 76, 38, 62], [73, 29, 83]]\n",
    "\n",
    "Tamanho para divisão: 0\n",
    "```"
   ]
  },
  {
   "cell_type": "code",
   "execution_count": 14,
   "id": "792563de",
   "metadata": {},
   "outputs": [
    {
     "name": "stdout",
     "output_type": "stream",
     "text": [
      "Lista original: [79, 68, 83, 73, 71, 52, 28, 99, 85, 11, 47, 21, 10, 47, 85, 17, 4, 44, 35, 64]\n"
     ]
    },
    {
     "name": "stdin",
     "output_type": "stream",
     "text": [
      "Tamanho para divisão (0 para sair):  5\n"
     ]
    },
    {
     "name": "stdout",
     "output_type": "stream",
     "text": [
      "Sublistas: [[79, 68, 83, 73, 71], [52, 28, 99, 85, 11], [47, 21, 10, 47, 85], [17, 4, 44, 35, 64]]\n"
     ]
    },
    {
     "name": "stdin",
     "output_type": "stream",
     "text": [
      "Tamanho para divisão (0 para sair):  1\n"
     ]
    },
    {
     "name": "stdout",
     "output_type": "stream",
     "text": [
      "Sublistas: [[79], [68], [83], [73], [71], [52], [28], [99], [85], [11], [47], [21], [10], [47], [85], [17], [4], [44], [35], [64]]\n"
     ]
    },
    {
     "name": "stdin",
     "output_type": "stream",
     "text": [
      "Tamanho para divisão (0 para sair):  2\n"
     ]
    },
    {
     "name": "stdout",
     "output_type": "stream",
     "text": [
      "Sublistas: [[79, 68], [83, 73], [71, 52], [28, 99], [85, 11], [47, 21], [10, 47], [85, 17], [4, 44], [35, 64]]\n"
     ]
    },
    {
     "name": "stdin",
     "output_type": "stream",
     "text": [
      "Tamanho para divisão (0 para sair):  3\n"
     ]
    },
    {
     "name": "stdout",
     "output_type": "stream",
     "text": [
      "Sublistas: [[79, 68, 83], [73, 71, 52], [28, 99, 85], [11, 47, 21], [10, 47, 85], [17, 4, 44], [35, 64]]\n"
     ]
    },
    {
     "name": "stdin",
     "output_type": "stream",
     "text": [
      "Tamanho para divisão (0 para sair):  1\n"
     ]
    },
    {
     "name": "stdout",
     "output_type": "stream",
     "text": [
      "Sublistas: [[79], [68], [83], [73], [71], [52], [28], [99], [85], [11], [47], [21], [10], [47], [85], [17], [4], [44], [35], [64]]\n"
     ]
    },
    {
     "name": "stdin",
     "output_type": "stream",
     "text": [
      "Tamanho para divisão (0 para sair):  2\n"
     ]
    },
    {
     "name": "stdout",
     "output_type": "stream",
     "text": [
      "Sublistas: [[79, 68], [83, 73], [71, 52], [28, 99], [85, 11], [47, 21], [10, 47], [85, 17], [4, 44], [35, 64]]\n"
     ]
    },
    {
     "name": "stdin",
     "output_type": "stream",
     "text": [
      "Tamanho para divisão (0 para sair):  0\n"
     ]
    }
   ],
   "source": [
    "import random\n",
    "lista = [random.randint(1,100) for i in range(20)]\n",
    "\n",
    "# Implemente sua solução aqui\n",
    "print(\"Lista original:\", lista)\n",
    "\n",
    "while True:\n",
    "    n = int(input(\"Tamanho para divisão (0 para sair): \"))\n",
    "    if n == 0:\n",
    "        break\n",
    "    \n",
    "    sublistas = [lista[i:i+n] for i in range(0, len(lista), n)]\n",
    "    print(\"Sublistas:\", sublistas)"
   ]
  },
  {
   "cell_type": "markdown",
   "id": "c65be32f",
   "metadata": {},
   "source": [
    "### Q7.\n",
    "\n",
    "Você está desenvolvendo um programa para determinar o vencedor de um jogo da velha. Escreva uma função ```avalia_tabuleiro()``` que recebe uma lista representando o estado atual do tabuleiro e determina se há um vencedor. \n",
    "\n",
    "A lista terá 3 sublistas, cada uma representando uma linha do tabuleiro. Cada elemento das sublistas pode ser 'X', 'O' ou vazio (' ').\n",
    "\n",
    "O programa deve imprimir o vencedor ('X', 'O'), se houver um, ou \"Empate\" se não houver vencedor. Um vencedor é determinado se houver três 'X' ou três 'O' em linha (horizontal, vertical ou diagonal).\n",
    "\n",
    "Exemplo:\n",
    "```python\n",
    "tabuleiro = [\n",
    "    ['X', 'O', 'X'],\n",
    "    [' ', 'X', 'O'],\n",
    "    ['O', ' ', 'O']\n",
    "]\n",
    "```\n",
    "O resultado seria \"Empate\", pois não há um vencedor no exemplo fornecido. \n",
    "\n",
    "Exemplo 2:\n",
    "```python\n",
    "tabuleiro = [\n",
    "    ['O', 'X', 'O'],\n",
    "    ['X', 'O', 'X'],\n",
    "    ['X', ' ', 'O']\n",
    "]\n",
    "```\n",
    "O resultado seria \"O\", pois 'O' venceu na diagonal central."
   ]
  },
  {
   "cell_type": "code",
   "execution_count": 17,
   "id": "720ca24d",
   "metadata": {},
   "outputs": [
    {
     "name": "stdout",
     "output_type": "stream",
     "text": [
      "Tabuleiro 1: X\n",
      "Tabuleiro 2: X\n",
      "Tabuleiro 3: Empate\n",
      "Tabuleiro 4: O\n",
      "Tabuleiro 5: Empate\n"
     ]
    }
   ],
   "source": [
    "### Escreva a função avalia_tabuleiro()\n",
    "def avalia_tabuleiro(tabuleiro):\n",
    "    for linha in tabuleiro:\n",
    "        if linha[0] == linha[1] == linha[2] != ' ':\n",
    "            return linha[0]\n",
    "    \n",
    "    for col in range(3):\n",
    "        if tabuleiro[0][col] == tabuleiro[1][col] == tabuleiro[2][col] != ' ':\n",
    "            return tabuleiro[0][col]\n",
    "    \n",
    "    if tabuleiro[0][0] == tabuleiro[1][1] == tabuleiro[2][2] != ' ':\n",
    "        return tabuleiro[0][0]\n",
    "    if tabuleiro[0][2] == tabuleiro[1][1] == tabuleiro[2][0] != ' ':\n",
    "        return tabuleiro[0][2]\n",
    "    \n",
    "    return \"Empate\"\n",
    "\n",
    "\n",
    "\n",
    "\n",
    "### teste a função nos seguintes tabuleiros\n",
    "\n",
    "tabuleiro1 = [\n",
    "    ['X', 'O', 'X'],\n",
    "    [' ', 'X', 'O'],\n",
    "    ['O', ' ', 'X']\n",
    "]\n",
    "\n",
    "tabuleiro2 = [\n",
    "    ['X', 'O', 'O'],\n",
    "    ['X', 'X', 'O'],\n",
    "    ['X', 'O', 'X']\n",
    "]\n",
    "\n",
    "tabuleiro3 = [\n",
    "    [' ', ' ', ' '],\n",
    "    ['X', ' ', 'O'],\n",
    "    ['O', 'X', 'X']\n",
    "]\n",
    "\n",
    "tabuleiro4 = [\n",
    "    ['O', 'O', 'O'],\n",
    "    ['X', ' ', 'X'],\n",
    "    ['O', 'X', 'X']\n",
    "]\n",
    "\n",
    "tabuleiro5 = [\n",
    "    ['X', 'X', 'O'],\n",
    "    ['X', ' ', 'O'],\n",
    "    ['O', 'O', 'X']\n",
    "]\n",
    "\n",
    "#teste\n",
    "tabuleiros = [tabuleiro1, tabuleiro2, tabuleiro3, tabuleiro4, tabuleiro5]\n",
    "\n",
    "for i, t in enumerate(tabuleiros, 1):\n",
    "    print(f\"Tabuleiro {i}: {avalia_tabuleiro(t)}\")"
   ]
  },
  {
   "cell_type": "code",
   "execution_count": null,
   "id": "4679920a-c577-46f0-a4a7-69d51e19f109",
   "metadata": {},
   "outputs": [],
   "source": []
  }
 ],
 "metadata": {
  "kernelspec": {
   "display_name": "Python 3 (ipykernel)",
   "language": "python",
   "name": "python3"
  },
  "language_info": {
   "codemirror_mode": {
    "name": "ipython",
    "version": 3
   },
   "file_extension": ".py",
   "mimetype": "text/x-python",
   "name": "python",
   "nbconvert_exporter": "python",
   "pygments_lexer": "ipython3",
   "version": "3.13.5"
  }
 },
 "nbformat": 4,
 "nbformat_minor": 5
}
